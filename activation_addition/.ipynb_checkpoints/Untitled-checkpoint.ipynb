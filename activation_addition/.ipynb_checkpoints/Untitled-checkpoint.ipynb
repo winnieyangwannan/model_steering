{
 "cells": [
  {
   "cell_type": "code",
   "execution_count": 1,
   "id": "76e0b3cd-32a9-4d94-8559-0ca1aaa2b7ff",
   "metadata": {},
   "outputs": [],
   "source": [
    "import torch\n",
    "from transformer_lens import HookedTransformer\n",
    "from typing import Dict, Union, List"
   ]
  },
  {
   "cell_type": "code",
   "execution_count": 9,
   "id": "1a8efcf2-f3e1-4870-8965-6baac0fcb2a4",
   "metadata": {},
   "outputs": [
    {
     "name": "stdout",
     "output_type": "stream",
     "text": [
      "free(Gb): 10.597957632 total(Gb): 11.810701312\n"
     ]
    }
   ],
   "source": [
    "print(\"free(Gb):\", torch.cuda.mem_get_info()[0]/1000000000, \"total(Gb):\", torch.cuda.mem_get_info()[1]/1000000000)"
   ]
  },
  {
   "cell_type": "code",
   "execution_count": null,
   "id": "9514ee77-9268-4854-9af6-ada4c2e8b090",
   "metadata": {},
   "outputs": [],
   "source": [
    "torch.set_grad_enabled(False)  # save memory\n",
    "model = HookedTransformer.from_pretrained(\"gpt2-xl\")\n",
    "model.eval()\n",
    "if torch.cuda.is_available():\n",
    "  model.to('cuda')"
   ]
  },
  {
   "cell_type": "code",
   "execution_count": null,
   "id": "9fbcf259-6f9d-4307-a96d-a5f43632178a",
   "metadata": {},
   "outputs": [],
   "source": [
    "SEED = 0\n",
    "sampling_kwargs = dict(temperature=1.0, top_p=0.3, freq_penalty=1.0)\n",
    "\n",
    "# Specific to the love/hate example\n",
    "prompt_add, prompt_sub = \"Love\", \"Hate\"\n",
    "coeff = 5\n",
    "act_name = 6 # layer\n",
    "prompt = \"I hate you because\""
   ]
  },
  {
   "cell_type": "code",
   "execution_count": 8,
   "id": "df51b0a3-8a15-4a67-a9a4-53646daa6ad1",
   "metadata": {},
   "outputs": [
    {
     "name": "stdout",
     "output_type": "stream",
     "text": [
      "free(Gb): 10.597957632 total(Gb): 11.810701312\n"
     ]
    }
   ],
   "source": [
    "print(\"free(Gb):\", torch.cuda.mem_get_info()[0]/1000000000, \"total(Gb):\", torch.cuda.mem_get_info()[1]/1000000000)"
   ]
  },
  {
   "cell_type": "code",
   "execution_count": null,
   "id": "a3402efd-d40c-4f57-be3f-a163f24476c1",
   "metadata": {},
   "outputs": [],
   "source": []
  }
 ],
 "metadata": {
  "kernelspec": {
   "display_name": "Python 3 (ipykernel)",
   "language": "python",
   "name": "python3"
  },
  "language_info": {
   "codemirror_mode": {
    "name": "ipython",
    "version": 3
   },
   "file_extension": ".py",
   "mimetype": "text/x-python",
   "name": "python",
   "nbconvert_exporter": "python",
   "pygments_lexer": "ipython3",
   "version": "3.12.3"
  }
 },
 "nbformat": 4,
 "nbformat_minor": 5
}
